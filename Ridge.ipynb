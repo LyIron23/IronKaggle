{
 "cells": [
  {
   "cell_type": "code",
   "execution_count": null,
   "metadata": {
    "vscode": {
     "languageId": "plaintext"
    }
   },
   "outputs": [],
   "source": [
    "def Ridge_reg_train(X_train, y_train):\n",
    "    # Takes the training X and y\n",
    "    # Prints the accuracy\n",
    "    # Returns the model\n",
    "\n",
    "    from sklearn.linear_model import Ridge\n",
    "\n",
    "    # initialize model\n",
    "    model = Ridge()\n",
    "\n",
    "    # fit model\n",
    "    model.fit(X_train, y_train)\n",
    "\n",
    "    print(model.coef_)\n",
    "    print(model.intercept_)\n",
    "    # check accuracy\n",
    "    print('Training accuracy: ', model.score(X_train, y_train))\n",
    "    return model"
   ]
  },
  {
   "cell_type": "code",
   "execution_count": null,
   "metadata": {
    "vscode": {
     "languageId": "plaintext"
    }
   },
   "outputs": [],
   "source": [
    "ridge_reg = Ridge_reg_train(X_train, y_train)\n",
    "\n",
    "print('Test accuracy: ', ridge_reg.score(X_test, y_test))"
   ]
  }
 ],
 "metadata": {
  "language_info": {
   "name": "python"
  }
 },
 "nbformat": 4,
 "nbformat_minor": 2
}
