{
 "cells": [
  {
   "cell_type": "code",
   "execution_count": null,
   "metadata": {},
   "outputs": [],
   "source": [
    "def Random_forest_reg_train(X_train, y_train):\n",
    "    # Takes the training X and y\n",
    "    # Prints the accuracy\n",
    "    # Returns the model\n",
    "\n",
    "    from sklearn.ensemble import RandomForestRegressor\n",
    "\n",
    "    # initialize model\n",
    "    model = RandomForestRegressor(n_estimators=1000, max_depth=10, max_leaf_nodes=400, n_jobs=-1)\n",
    "\n",
    "    # fit model\n",
    "    model.fit(X_train, y_train)\n",
    "\n",
    "\n",
    "    # check accuracy\n",
    "    print('Training accuracy: ', model.score(X_train, y_train))\n",
    "    return model"
   ]
  },
  {
   "cell_type": "code",
   "execution_count": null,
   "metadata": {},
   "outputs": [],
   "source": [
    "Random_forest_reg = Random_forest_reg_train(X_train, y_train)\n",
    "\n",
    "print('Test accuracy: ', Random_forest_reg.score(X_test, y_test))"
   ]
  },
  {
   "cell_type": "markdown",
   "metadata": {},
   "source": [
    "20 mins running"
   ]
  }
 ],
 "metadata": {
  "language_info": {
   "name": "python"
  }
 },
 "nbformat": 4,
 "nbformat_minor": 2
}
