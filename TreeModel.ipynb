{
 "cells": [
  {
   "cell_type": "code",
   "execution_count": null,
   "metadata": {},
   "outputs": [],
   "source": [
    "from sklearn import tree\n",
    "from sklearn.tree import DecisionTreeRegressor, export_text\n",
    "import matplotlib.pyplot as plt\n",
    "\n",
    "# Create decision tree regressor object\n",
    "regr = DecisionTreeRegressor()\n",
    "\n",
    "# Train the decision tree model\n",
    "model = regr.fit(X_train, y_train)\n",
    "\n",
    "# Score the model\n",
    "score = regr.score(X_test, y_test)\n",
    "print(f'Model Score: {score}')\n",
    "\n",
    "# Visualize the decision tree\n",
    "fig = plt.figure(figsize=(25, 20))\n",
    "_ = tree.plot_tree(model, feature_names=list(X_train.columns), filled=True)\n",
    "\n",
    "# Display the decision tree rules\n",
    "r = export_text(regr, feature_names=list(X_train.columns))\n",
    "print(r)\n"
   ]
  },
  {
   "cell_type": "markdown",
   "metadata": {},
   "source": [
    "running 8 mins nothing "
   ]
  }
 ],
 "metadata": {
  "language_info": {
   "name": "python"
  }
 },
 "nbformat": 4,
 "nbformat_minor": 2
}
